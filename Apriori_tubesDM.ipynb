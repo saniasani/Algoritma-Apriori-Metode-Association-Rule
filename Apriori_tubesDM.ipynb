{
 "cells": [
  {
   "cell_type": "markdown",
   "metadata": {},
   "source": [
    "# Algoritma Apriori pada Transaksi Penjualan di Toko Komputer"
   ]
  },
  {
   "cell_type": "markdown",
   "metadata": {},
   "source": [
    "Dataset\n",
    "\n",
    "---\n",
    "data transaksi pembelian atau hasil penjualan di toko komputer, data terdiri dari 538 baris, dan baris pertama adalah atribut dari data sehingga total baris untuk data 537 dengan 3 kolom.\n",
    "\n",
    "Dapat dilihat: http://bit.ly/3ouzkYt \n",
    "\n",
    "---"
   ]
  },
  {
   "cell_type": "markdown",
   "metadata": {},
   "source": [
    "import paket yang dibutuhkan"
   ]
  },
  {
   "cell_type": "code",
   "execution_count": 28,
   "metadata": {},
   "outputs": [],
   "source": [
    "import numpy as np \n",
    "import pandas as pd \n",
    "from mlxtend.frequent_patterns import apriori, association_rules"
   ]
  },
  {
   "cell_type": "markdown",
   "metadata": {},
   "source": [
    "input dataset"
   ]
  },
  {
   "cell_type": "code",
   "execution_count": 11,
   "metadata": {},
   "outputs": [],
   "source": [
    "data = pd.read_csv('pembelian.csv')"
   ]
  },
  {
   "cell_type": "code",
   "execution_count": 12,
   "metadata": {},
   "outputs": [
    {
     "data": {
      "text/html": [
       "<div>\n",
       "<style scoped>\n",
       "    .dataframe tbody tr th:only-of-type {\n",
       "        vertical-align: middle;\n",
       "    }\n",
       "\n",
       "    .dataframe tbody tr th {\n",
       "        vertical-align: top;\n",
       "    }\n",
       "\n",
       "    .dataframe thead th {\n",
       "        text-align: right;\n",
       "    }\n",
       "</style>\n",
       "<table border=\"1\" class=\"dataframe\">\n",
       "  <thead>\n",
       "    <tr style=\"text-align: right;\">\n",
       "      <th></th>\n",
       "      <th>No_Kwitansi</th>\n",
       "      <th>Nama_Barang</th>\n",
       "      <th>Jumlah</th>\n",
       "    </tr>\n",
       "  </thead>\n",
       "  <tbody>\n",
       "    <tr>\n",
       "      <th>0</th>\n",
       "      <td>1</td>\n",
       "      <td>cpu</td>\n",
       "      <td>7</td>\n",
       "    </tr>\n",
       "    <tr>\n",
       "      <th>1</th>\n",
       "      <td>1</td>\n",
       "      <td>monitor</td>\n",
       "      <td>20</td>\n",
       "    </tr>\n",
       "    <tr>\n",
       "      <th>2</th>\n",
       "      <td>1</td>\n",
       "      <td>mouse</td>\n",
       "      <td>4</td>\n",
       "    </tr>\n",
       "    <tr>\n",
       "      <th>3</th>\n",
       "      <td>2</td>\n",
       "      <td>monitor</td>\n",
       "      <td>9</td>\n",
       "    </tr>\n",
       "    <tr>\n",
       "      <th>4</th>\n",
       "      <td>2</td>\n",
       "      <td>meja</td>\n",
       "      <td>4</td>\n",
       "    </tr>\n",
       "  </tbody>\n",
       "</table>\n",
       "</div>"
      ],
      "text/plain": [
       "   No_Kwitansi Nama_Barang  Jumlah\n",
       "0            1         cpu       7\n",
       "1            1     monitor      20\n",
       "2            1       mouse       4\n",
       "3            2     monitor       9\n",
       "4            2        meja       4"
      ]
     },
     "execution_count": 12,
     "metadata": {},
     "output_type": "execute_result"
    }
   ],
   "source": [
    "data.head()  "
   ]
  },
  {
   "cell_type": "markdown",
   "metadata": {},
   "source": [
    "tampilkan atribut dari data, jumlah baris dan colum, serta lihat data yang null"
   ]
  },
  {
   "cell_type": "code",
   "execution_count": 13,
   "metadata": {},
   "outputs": [
    {
     "data": {
      "text/plain": [
       "Index(['No_Kwitansi', 'Nama_Barang', 'Jumlah'], dtype='object')"
      ]
     },
     "execution_count": 13,
     "metadata": {},
     "output_type": "execute_result"
    }
   ],
   "source": [
    "data.columns"
   ]
  },
  {
   "cell_type": "code",
   "execution_count": 14,
   "metadata": {},
   "outputs": [
    {
     "data": {
      "text/plain": [
       "(537, 3)"
      ]
     },
     "execution_count": 14,
     "metadata": {},
     "output_type": "execute_result"
    }
   ],
   "source": [
    "data.shape"
   ]
  },
  {
   "cell_type": "code",
   "execution_count": 15,
   "metadata": {},
   "outputs": [
    {
     "data": {
      "text/plain": [
       "False"
      ]
     },
     "execution_count": 15,
     "metadata": {},
     "output_type": "execute_result"
    }
   ],
   "source": [
    "data.isnull().values.any()"
   ]
  },
  {
   "cell_type": "markdown",
   "metadata": {},
   "source": [
    "Data Transaksi"
   ]
  },
  {
   "cell_type": "code",
   "execution_count": 29,
   "metadata": {},
   "outputs": [],
   "source": [
    "transaksi = data.groupby(['No_Kwitansi','Nama_Barang'])['Jumlah'].sum()"
   ]
  },
  {
   "cell_type": "code",
   "execution_count": 30,
   "metadata": {},
   "outputs": [],
   "source": [
    "transaksi = transaksi.unstack().reset_index().fillna(0).set_index('No_Kwitansi')\n",
    "transaksi[transaksi>0]=1"
   ]
  },
  {
   "cell_type": "code",
   "execution_count": 31,
   "metadata": {},
   "outputs": [
    {
     "name": "stdout",
     "output_type": "stream",
     "text": [
      "Tabel Transaksi:\n",
      " Nama_Barang  cpu  flashdisk  harddisk  meja  mic  monitor  mouse  ram  speaker\n",
      "No_Kwitansi                                                                   \n",
      "1            1.0        0.0       0.0   0.0  0.0      1.0    1.0  0.0      0.0\n",
      "10           1.0        0.0       0.0   1.0  1.0      1.0    0.0  0.0      1.0\n",
      "100          0.0        0.0       0.0   0.0  1.0      1.0    0.0  0.0      0.0\n",
      "101          1.0        1.0       0.0   0.0  0.0      1.0    0.0  0.0      0.0\n",
      "102          1.0        0.0       0.0   0.0  0.0      1.0    0.0  0.0      0.0\n",
      "...          ...        ...       ...   ...  ...      ...    ...  ...      ...\n",
      "87           0.0        1.0       1.0   0.0  0.0      0.0    0.0  1.0      0.0\n",
      "88           1.0        1.0       0.0   0.0  0.0      0.0    0.0  0.0      1.0\n",
      "89           0.0        1.0       0.0   0.0  1.0      1.0    0.0  0.0      1.0\n",
      "9            1.0        0.0       0.0   0.0  0.0      1.0    1.0  0.0      0.0\n",
      "90           1.0        0.0       0.0   0.0  0.0      1.0    0.0  0.0      0.0\n",
      "\n",
      "[124 rows x 9 columns]\n"
     ]
    }
   ],
   "source": [
    "print('Tabel Transaksi:\\n', transaksi)"
   ]
  },
  {
   "cell_type": "markdown",
   "metadata": {},
   "source": [
    "Bangun Model Dengan Minimum Support 0.1"
   ]
  },
  {
   "cell_type": "code",
   "execution_count": 56,
   "metadata": {},
   "outputs": [],
   "source": [
    "frequent_itemsets=apriori(transaksi, min_support=0.1, use_colnames=True)\n",
    "rules=association_rules(frequent_itemsets, metric=\"confidence\", min_threshold=0.7)"
   ]
  },
  {
   "cell_type": "code",
   "execution_count": 57,
   "metadata": {},
   "outputs": [
    {
     "name": "stdout",
     "output_type": "stream",
     "text": [
      "\n",
      "Association Rules:\n",
      "                  antecedents              consequents  confidence\n",
      "0                     (meja)                    (cpu)    1.000000\n",
      "1                      (cpu)                (monitor)    0.814815\n",
      "2                  (monitor)                    (cpu)    0.846154\n",
      "3                 (harddisk)              (flashdisk)    1.000000\n",
      "4                 (harddisk)                    (ram)    0.875000\n",
      "..                       ...                      ...         ...\n",
      "69  (speaker, meja, monitor)               (cpu, mic)    1.000000\n",
      "70          (meja, cpu, mic)       (speaker, monitor)    0.937500\n",
      "71      (meja, monitor, mic)           (speaker, cpu)    0.937500\n",
      "72           (speaker, meja)      (monitor, cpu, mic)    1.000000\n",
      "73               (meja, mic)  (speaker, cpu, monitor)    0.937500\n",
      "\n",
      "[74 rows x 3 columns]\n"
     ]
    }
   ],
   "source": [
    "print('\\nAssociation Rules:\\n', rules[['antecedents', 'consequents', 'confidence']])"
   ]
  },
  {
   "cell_type": "markdown",
   "metadata": {},
   "source": [
    "Bangun Model Dengan Minimum Support 0.3"
   ]
  },
  {
   "cell_type": "code",
   "execution_count": 54,
   "metadata": {},
   "outputs": [],
   "source": [
    "frequent_itemsets=apriori(transaksi, min_support=0.3, use_colnames=True)\n",
    "rules=association_rules(frequent_itemsets, metric=\"confidence\", min_threshold=0.7)"
   ]
  },
  {
   "cell_type": "code",
   "execution_count": 55,
   "metadata": {},
   "outputs": [
    {
     "name": "stdout",
     "output_type": "stream",
     "text": [
      "\n",
      "Association Rules:\n",
      "   antecedents consequents  confidence\n",
      "0       (cpu)   (monitor)    0.814815\n",
      "1   (monitor)       (cpu)    0.846154\n",
      "2   (speaker)       (mic)    0.742424\n",
      "3       (mic)   (speaker)    0.875000\n"
     ]
    }
   ],
   "source": [
    "print('\\nAssociation Rules:\\n', rules[['antecedents', 'consequents', 'confidence']])"
   ]
  },
  {
   "cell_type": "markdown",
   "metadata": {},
   "source": [
    "Bangun Model Dengan Minimum Support 0.5"
   ]
  },
  {
   "cell_type": "code",
   "execution_count": 50,
   "metadata": {},
   "outputs": [],
   "source": [
    "frequent_itemsets=apriori(transaksi, min_support=0.5, use_colnames=True)\n",
    "rules=association_rules(frequent_itemsets, metric=\"confidence\", min_threshold=0.7)"
   ]
  },
  {
   "cell_type": "code",
   "execution_count": 51,
   "metadata": {},
   "outputs": [
    {
     "name": "stdout",
     "output_type": "stream",
     "text": [
      "\n",
      "Association Rules:\n",
      "   antecedents consequents  confidence\n",
      "0       (cpu)   (monitor)    0.814815\n",
      "1   (monitor)       (cpu)    0.846154\n"
     ]
    }
   ],
   "source": [
    "print('\\nAssociation Rules:\\n', rules[['antecedents', 'consequents', 'confidence']])"
   ]
  },
  {
   "cell_type": "markdown",
   "metadata": {},
   "source": [
    "# SEKIAN"
   ]
  }
 ],
 "metadata": {
  "kernelspec": {
   "display_name": "Python 3",
   "language": "python",
   "name": "python3"
  },
  "language_info": {
   "codemirror_mode": {
    "name": "ipython",
    "version": 3
   },
   "file_extension": ".py",
   "mimetype": "text/x-python",
   "name": "python",
   "nbconvert_exporter": "python",
   "pygments_lexer": "ipython3",
   "version": "3.7.6"
  }
 },
 "nbformat": 4,
 "nbformat_minor": 4
}
